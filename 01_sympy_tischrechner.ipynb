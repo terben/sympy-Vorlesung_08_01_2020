{
 "cells": [
  {
   "cell_type": "markdown",
   "metadata": {},
   "source": [
    "# `Sympy` als Tischrechner"
   ]
  },
  {
   "cell_type": "markdown",
   "metadata": {},
   "source": [
    "Mathematische Symbole, die in einer `sympy`-Sitzung verwendet werden, müssen vor Ihrer Nutzung definiert werden. Man bechate, dass `sympy` in `Python` integriert ist!"
   ]
  },
  {
   "cell_type": "code",
   "execution_count": null,
   "metadata": {},
   "outputs": [],
   "source": [
    "%matplotlib inline\n",
    "import sympy as sp\n",
    "\n",
    "# Zum Plotten und zur numerischen Auswertung von sympy-Ausdrücken ist\n",
    "# numpy und matplotlib notwendig:\n",
    "import numpy as np\n",
    "import matplotlib.pyplot as plt\n",
    "\n",
    "# Um sympy-Ausdrücke 'so gut wie möglich' darzustellen\n",
    "sp.init_printing()\n",
    "\n",
    "# Symbole repräsentieren per default komplexe Zahlen\n",
    "x, y, a, b, c, d, h, k = sp.symbols('x y a b c d h k')\n",
    "alpha, beta, omega = sp.symbols('alpha beta omega')\n",
    "v1 = sp.symbols('v_1')\n",
    "# n und m sollen Zahlen aus Z repräsentieren\n",
    "n, m = sp.symbols('n m', integer=True)\n",
    "# f und g sollen Funktionen repräsentieren\n",
    "f, g = sp.symbols('f g', cls=sp.Function)\n",
    "\n",
    "x, y, alpha, beta, v1, n, m"
   ]
  },
  {
   "cell_type": "markdown",
   "metadata": {},
   "source": [
    "## Bunte Mischung interaktiver `sympy`-Befehle"
   ]
  },
  {
   "cell_type": "markdown",
   "metadata": {},
   "source": [
    "### *Exakte* Berechnungen"
   ]
  },
  {
   "cell_type": "markdown",
   "metadata": {},
   "source": [
    "Man beachte, dass man für Funktionen die `sympy`-Varianten (und nicht etwa die `numpy` - Versionen) benutzt!"
   ]
  },
  {
   "cell_type": "code",
   "execution_count": null,
   "metadata": {},
   "outputs": [],
   "source": [
    "sp.sqrt(2)"
   ]
  },
  {
   "cell_type": "code",
   "execution_count": null,
   "metadata": {},
   "outputs": [],
   "source": [
    "sp.sin(sp.pi / 4)"
   ]
  },
  {
   "cell_type": "markdown",
   "metadata": {},
   "source": [
    "Da `sympy` in `Python` integriert ist, müssen wir manchmal explizit sagen, dass wir `sympy`-Ausdrücke wollen:"
   ]
  },
  {
   "cell_type": "code",
   "execution_count": null,
   "metadata": {},
   "outputs": [],
   "source": [
    "# sp.S(1) macht aus der '1' einen sympy-Ausdruck.\n",
    "sp.S(1) / 3 + sp.S(1) / 4"
   ]
  },
  {
   "cell_type": "code",
   "execution_count": null,
   "metadata": {},
   "outputs": [],
   "source": [
    "# Das folgende ist eine normale Python-Division und Addition\n",
    "1 / 3 + 1 / 4"
   ]
  },
  {
   "cell_type": "markdown",
   "metadata": {},
   "source": [
    "### *Beliebig genaue* numerische Werte\n",
    "Falls wir einen Ausdruck haben, der einen numerischen Wert repräsentiert, können wir ihn *mit beliebiger Genauigkeit* auswerten:"
   ]
  },
  {
   "cell_type": "code",
   "execution_count": null,
   "metadata": {},
   "outputs": [],
   "source": [
    "sp.N(sp.pi, 30) # pi auf 30 Stellen genau"
   ]
  },
  {
   "cell_type": "markdown",
   "metadata": {},
   "source": [
    "### Arithmetik mit komplexen Zahlen"
   ]
  },
  {
   "cell_type": "code",
   "execution_count": null,
   "metadata": {},
   "outputs": [],
   "source": [
    "(3 + 4 * sp.I) + (8 + 9 * sp.I)  # sp.I ist die imaginäre Einheit"
   ]
  },
  {
   "cell_type": "code",
   "execution_count": null,
   "metadata": {},
   "outputs": [],
   "source": [
    "(4 + 4 * sp.I) / (7 + 6 * sp.I)"
   ]
  },
  {
   "cell_type": "markdown",
   "metadata": {},
   "source": [
    "Im Folgenden wird die Eulerformal $\\exp(\\rm ix)=\\sin(x)+\\rm i\\cos(x)$ benutzt."
   ]
  },
  {
   "cell_type": "code",
   "execution_count": null,
   "metadata": {},
   "outputs": [],
   "source": [
    "sp.sin(sp.pi / 4 * sp.I)"
   ]
  },
  {
   "cell_type": "markdown",
   "metadata": {},
   "source": [
    "Im folgenden nehmen wir meist explizit an, dass `a` einen ganze Zahl ist:"
   ]
  },
  {
   "cell_type": "code",
   "execution_count": null,
   "metadata": {},
   "outputs": [],
   "source": [
    "sp.cos(a * sp.pi)"
   ]
  },
  {
   "cell_type": "markdown",
   "metadata": {},
   "source": [
    "### Mathemtische Ausdrücke"
   ]
  },
  {
   "cell_type": "code",
   "execution_count": null,
   "metadata": {},
   "outputs": [],
   "source": [
    "expr = x / (x**2 + 5)\n",
    "expr"
   ]
  },
  {
   "cell_type": "code",
   "execution_count": null,
   "metadata": {},
   "outputs": [],
   "source": [
    "# Ableitung\n",
    "abl = sp.diff(expr, x)\n",
    "abl"
   ]
  },
  {
   "cell_type": "code",
   "execution_count": null,
   "metadata": {},
   "outputs": [],
   "source": [
    "# symbolisches Integral\n",
    "sp.Integral(abl, x).doit()  # sp.integrate(f, x) is equivalent"
   ]
  },
  {
   "cell_type": "code",
   "execution_count": null,
   "metadata": {},
   "outputs": [],
   "source": [
    "# Lösen von Gleichungen\n",
    "# Per default löse solve die Gleichung 'abl = 0'\n",
    "sp.solve(abl, x)"
   ]
  },
  {
   "cell_type": "code",
   "execution_count": null,
   "metadata": {},
   "outputs": [],
   "source": [
    "# Lösen der Gleichung 'expr = 0.1'\n",
    "sp.solve(sp.Eq(expr, 0.1), x)"
   ]
  },
  {
   "cell_type": "markdown",
   "metadata": {},
   "source": [
    "Man beachte, dass `sympy`-Ausdrücke keine *Funktionen* sind. Man kann sie aber mit lambdify in eine `numpy`-Funktion umwandeln und dann plotten etc."
   ]
  },
  {
   "cell_type": "code",
   "execution_count": null,
   "metadata": {},
   "outputs": [],
   "source": [
    "# Mache aus dem Sympy Ausdruck expr eine numpy-Funktion g\n",
    "g = sp.lambdify(x, expr, 'numpy')\n",
    "\n",
    "xs = np.linspace(-10.0, 10.0, 200)\n",
    "plt.plot(xs, g(xs))"
   ]
  },
  {
   "cell_type": "markdown",
   "metadata": {},
   "source": [
    "Wenn wir einen Ausdruck einmal schnell für einen bestimmten numerischen Wert der Variablen auswerten möchten, können wir `subs` und `evalf` verwenden:"
   ]
  },
  {
   "cell_type": "code",
   "execution_count": null,
   "metadata": {},
   "outputs": [],
   "source": [
    "expr.subs(x, 1)  # append .evalf() for a numeric value"
   ]
  },
  {
   "cell_type": "markdown",
   "metadata": {},
   "source": [
    "### Summen, Grenzwerte, Taylorentwicklungen (auch in die Unendlichkeit)"
   ]
  },
  {
   "cell_type": "code",
   "execution_count": null,
   "metadata": {},
   "outputs": [],
   "source": [
    "sp.Sum(1 / n**4, (n, 1, sp.oo)).doit() # sp.oo ist das sympy-Symbol für 'unendlich'"
   ]
  },
  {
   "cell_type": "code",
   "execution_count": null,
   "metadata": {},
   "outputs": [],
   "source": [
    "sp.Limit(3 * x / sp.sin(4*x), x, 0)"
   ]
  },
  {
   "cell_type": "markdown",
   "metadata": {},
   "source": [
    "Reihenentwicklung der Exponentialfunktion:"
   ]
  },
  {
   "cell_type": "code",
   "execution_count": null,
   "metadata": {},
   "outputs": [],
   "source": [
    "sp.series(sp.exp(x), n = 10)"
   ]
  },
  {
   "cell_type": "markdown",
   "metadata": {},
   "source": [
    "Und das Umgekehrte:"
   ]
  },
  {
   "cell_type": "code",
   "execution_count": null,
   "metadata": {},
   "outputs": [],
   "source": [
    "sp.Sum(x**n / sp.factorial(n), (n, 0, sp.oo))"
   ]
  },
  {
   "cell_type": "markdown",
   "metadata": {},
   "source": [
    "### `sympy`-Ausdrücke als $\\LaTeX$-Code"
   ]
  },
  {
   "cell_type": "markdown",
   "metadata": {},
   "source": [
    "`sympy` kann den $\\LaTeX$-Code für jeden Audruck liefern! Mit dem Beispiel von eben: "
   ]
  },
  {
   "cell_type": "code",
   "execution_count": null,
   "metadata": {},
   "outputs": [],
   "source": [
    "exponential = sp.Sum(x**n / sp.factorial(n), (n, 0, sp.oo))\n",
    "exponential"
   ]
  },
  {
   "cell_type": "code",
   "execution_count": null,
   "metadata": {},
   "outputs": [],
   "source": [
    "# Gib den LaTeX-Code für exponential\n",
    "sp.latex(exponential)"
   ]
  },
  {
   "cell_type": "markdown",
   "metadata": {},
   "source": [
    "Auch in eine Datei schreiben ist einfach:"
   ]
  },
  {
   "cell_type": "code",
   "execution_count": null,
   "metadata": {},
   "outputs": [],
   "source": [
    "# Schreibe den LaTeX-Ausdruck von 'exponential'\n",
    "# in die Datei 'exp.tex'.\n",
    "expfile = open('exp.tex', 'w')\n",
    "print(sp.latex(exponential), file=expfile)\n",
    "expfile.close()"
   ]
  },
  {
   "cell_type": "code",
   "execution_count": null,
   "metadata": {},
   "outputs": [],
   "source": [
    "# Mit '!' können Sie in einer Python-Zelle Unix-Kommandos\n",
    "# ausführen:\n",
    "!cat exp.tex"
   ]
  },
  {
   "cell_type": "markdown",
   "metadata": {},
   "source": [
    "### Umformungen (*Vereinfachungen*, ausmultiplizieren von Termen, ...; sehr grosses Thema!)"
   ]
  },
  {
   "cell_type": "code",
   "execution_count": null,
   "metadata": {},
   "outputs": [],
   "source": [
    "p = 1 - x**3\n",
    "p"
   ]
  },
  {
   "cell_type": "code",
   "execution_count": null,
   "metadata": {},
   "outputs": [],
   "source": [
    "p.factor()"
   ]
  },
  {
   "cell_type": "code",
   "execution_count": null,
   "metadata": {},
   "outputs": [],
   "source": [
    "expr = sp.sin(x)**2 + sp.cos(x)**2\n",
    "expr"
   ]
  },
  {
   "cell_type": "markdown",
   "metadata": {},
   "source": [
    "Man beachte, dass `simplify` keine mathematisch definierte Operation ist. `sympy` besitzt viele Umformungs- und Vereinfachungsbefehle!"
   ]
  },
  {
   "cell_type": "code",
   "execution_count": null,
   "metadata": {},
   "outputs": [],
   "source": [
    "expr.simplify()"
   ]
  },
  {
   "cell_type": "markdown",
   "metadata": {},
   "source": [
    "### Differentialgleichungen - Harmonischer Oszillator mit Dämpfung"
   ]
  },
  {
   "cell_type": "code",
   "execution_count": null,
   "metadata": {},
   "outputs": [],
   "source": [
    "deq = sp.diff(f(x), x, x) + 2 * k * omega * sp.diff(f(x), x) + omega**2 * f(x)\n",
    "deq"
   ]
  },
  {
   "cell_type": "code",
   "execution_count": null,
   "metadata": {},
   "outputs": [],
   "source": [
    "sp.dsolve(deq)"
   ]
  },
  {
   "cell_type": "markdown",
   "metadata": {},
   "source": [
    "Das Ganze mit den Anfangsbedingungen $f(0) = 1$ und $f'(0) = 0$:"
   ]
  },
  {
   "cell_type": "code",
   "execution_count": null,
   "metadata": {},
   "outputs": [],
   "source": [
    "solution = sp.dsolve(deq, ics={f(x).subs(x, 0) : 1, f(x).diff(x).subs(x, 0) : 0})\n",
    "solution"
   ]
  },
  {
   "cell_type": "markdown",
   "metadata": {},
   "source": [
    "Das wollen wir für unseren Bericht:"
   ]
  },
  {
   "cell_type": "code",
   "execution_count": null,
   "metadata": {},
   "outputs": [],
   "source": [
    "sp.latex(solution)"
   ]
  },
  {
   "cell_type": "markdown",
   "metadata": {},
   "source": [
    "Weiterverarbeitung des Ergebnisses. Was passiert für $k\\to 1$?"
   ]
  },
  {
   "cell_type": "code",
   "execution_count": null,
   "metadata": {},
   "outputs": [],
   "source": [
    "# rhs isoliert die rechte Seite der 'Fleichung' solution:\n",
    "klimit = sp.Limit(solution.rhs, k, 1).doit()\n",
    "klimit"
   ]
  },
  {
   "cell_type": "markdown",
   "metadata": {},
   "source": [
    "Plotten des Ergebnisses; beachte, dass man für lambdify allen symbolischen Konstanten konkrete Werte geben muss!"
   ]
  },
  {
   "cell_type": "code",
   "execution_count": null,
   "metadata": {},
   "outputs": [],
   "source": [
    "g = sp.lambdify(x, solution.rhs.subs({k: 0.05, omega: 1}), 'numpy')\n",
    "xs = np.linspace(0.0, 20.0, 100)\n",
    "plt.plot(xs, g(xs))"
   ]
  },
  {
   "cell_type": "markdown",
   "metadata": {},
   "source": [
    "### Rechnungen mit Matrizen"
   ]
  },
  {
   "cell_type": "code",
   "execution_count": null,
   "metadata": {},
   "outputs": [],
   "source": [
    "M = sp.Matrix([[a * sp.cos(alpha), b * sp.sin(alpha)], [c * sp.sin(alpha), d * sp.cos(alpha)]])\n",
    "M"
   ]
  },
  {
   "cell_type": "code",
   "execution_count": null,
   "metadata": {},
   "outputs": [],
   "source": [
    "M.det()         # Determinante einer quadratischen Matrix"
   ]
  },
  {
   "cell_type": "code",
   "execution_count": null,
   "metadata": {},
   "outputs": [],
   "source": [
    "M.transpose()   # Dasselbe wie M.T"
   ]
  },
  {
   "cell_type": "code",
   "execution_count": null,
   "metadata": {},
   "outputs": [],
   "source": [
    "M.inv()         # Inverse einer Matrix"
   ]
  },
  {
   "cell_type": "code",
   "execution_count": null,
   "metadata": {},
   "outputs": [],
   "source": [
    "M.eigenvals()   # Eigenwerte einer Matrix"
   ]
  }
 ],
 "metadata": {
  "kernelspec": {
   "display_name": "Python 3",
   "language": "python",
   "name": "python3"
  },
  "language_info": {
   "codemirror_mode": {
    "name": "ipython",
    "version": 3
   },
   "file_extension": ".py",
   "mimetype": "text/x-python",
   "name": "python",
   "nbconvert_exporter": "python",
   "pygments_lexer": "ipython3",
   "version": "3.7.3"
  }
 },
 "nbformat": 4,
 "nbformat_minor": 2
}
