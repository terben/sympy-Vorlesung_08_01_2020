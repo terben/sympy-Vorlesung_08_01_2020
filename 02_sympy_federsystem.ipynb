{
 "cells": [
  {
   "cell_type": "markdown",
   "metadata": {},
   "source": [
    "# Gleichgewicht eines Systems aus drei Federn"
   ]
  },
  {
   "cell_type": "markdown",
   "metadata": {},
   "source": [
    "<img src=\"figs/doppelschwinger.png\" style=\"width: 500px;\">"
   ]
  },
  {
   "cell_type": "markdown",
   "metadata": {},
   "source": [
    "Gegeben sei ein System aus zwei Massen ($m$ und $M$) und drei Federn mit Federkonstanten ($k_1$, $k_2$ und $k_3$). Die Ruhelängen der Federn seien jeweils $0$. Das System werde soweit auseinandergezogen, bis $\\sum_{i=1}^3 x_i = 2$ (dimensionslose Einheiten). Was sind die $x_i$ (Auslenkungen der einzelnen Federn)?"
   ]
  },
  {
   "cell_type": "markdown",
   "metadata": {},
   "source": [
    "Das Hooksche Gesetz und die Bedingung an die Gesamtlänge liefert (Kräftegleichgewicht an dem Massen):\n",
    "\n",
    "\\begin{eqnarray}\n",
    "  -k_1 x_1 & = & -k_2 x_2 \\\\\n",
    "  -k_2 x_2 & = & -k_3 x_3 \\\\\n",
    "  x_1 + x_2 + x_3 & = & 2 \\\\\n",
    "\\end{eqnarray}"
   ]
  },
  {
   "cell_type": "markdown",
   "metadata": {},
   "source": [
    "Wir wollen dieses System symbolisch mit `sympy` lösen:"
   ]
  },
  {
   "cell_type": "code",
   "execution_count": null,
   "metadata": {},
   "outputs": [],
   "source": [
    "import sympy as sp\n",
    "\n",
    "sp.init_printing()\n",
    "\n",
    "x1, x2, x3 = sp.symbols(\"x_1, x_2, x_3\")\n",
    "k1, k2, k3, k = sp.symbols(\"k_1, k_2, k_3 k\")"
   ]
  },
  {
   "cell_type": "code",
   "execution_count": null,
   "metadata": {},
   "outputs": [],
   "source": [
    "# definition of the three equations:\n",
    "gl1 = sp.Eq(-k1 * x1, -k2 * x2)\n",
    "gl2 = sp.Eq(-k2 * x2, -k3 * x3)\n",
    "gl3 = sp.Eq(2, x1 + x2 + x3)"
   ]
  },
  {
   "cell_type": "code",
   "execution_count": null,
   "metadata": {},
   "outputs": [],
   "source": [
    "# note how a system of equations is handed to sp.solve and how\n",
    "# the solution looks like:\n",
    "sol = sp.solve([gl1, gl2, gl3], [x1, x2, x3])\n",
    "sol"
   ]
  },
  {
   "cell_type": "code",
   "execution_count": null,
   "metadata": {},
   "outputs": [],
   "source": [
    "# Note how the solutions can be accessed.\n",
    "#\n",
    "# In general: Have a look at the solutions and data structures of\n",
    "# sp.solve!\n",
    "sol[x1], sol[x2], sol[x3]"
   ]
  },
  {
   "cell_type": "code",
   "execution_count": null,
   "metadata": {},
   "outputs": [],
   "source": [
    "# Investigate the special case: k1 = k3 = k3 = k\n",
    "xk1 = sol[x1].subs(k1, k).subs(k2, k).subs(k3, k)\n",
    "xk2 = sol[x2].subs(k1, k).subs(k2, k).subs(k3, k)\n",
    "xk3 = sol[x3].subs(k1, k).subs(k2, k).subs(k3, k)\n",
    "xk1, xk2, xk3"
   ]
  },
  {
   "cell_type": "code",
   "execution_count": null,
   "metadata": {},
   "outputs": [],
   "source": [
    "# special case of k3 -> \\infty\n",
    "x1_inf = sol[x1].limit(k3, sp.oo)\n",
    "x2_inf = sol[x2].limit(k3, sp.oo)\n",
    "x3_inf = sol[x3].limit(k3, sp.oo)\n",
    "x1_inf, x2_inf, x3_inf"
   ]
  },
  {
   "cell_type": "code",
   "execution_count": null,
   "metadata": {},
   "outputs": [],
   "source": []
  }
 ],
 "metadata": {
  "kernelspec": {
   "display_name": "Python 3",
   "language": "python",
   "name": "python3"
  },
  "language_info": {
   "codemirror_mode": {
    "name": "ipython",
    "version": 3
   },
   "file_extension": ".py",
   "mimetype": "text/x-python",
   "name": "python",
   "nbconvert_exporter": "python",
   "pygments_lexer": "ipython3",
   "version": "3.7.2"
  }
 },
 "nbformat": 4,
 "nbformat_minor": 2
}
