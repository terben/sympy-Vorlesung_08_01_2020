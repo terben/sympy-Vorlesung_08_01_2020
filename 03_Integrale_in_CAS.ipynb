{
 "cells": [
  {
   "cell_type": "markdown",
   "metadata": {},
   "source": [
    "# Ein paar Kommentare zu symbolischer Integration in Computer-Algebra-Systemen"
   ]
  },
  {
   "cell_type": "markdown",
   "metadata": {},
   "source": [
    "## Hauptsatz der Differential- und Integralrechnung"
   ]
  },
  {
   "cell_type": "markdown",
   "metadata": {},
   "source": [
    "Sei $f: [a, b]\\rightarrow\\mathbb{R}$ eine reelwertige, stetige Funktion auf dem abgeschlossenem Interval $[a, b]\\subset\\mathbb{R}$, so ist für alle $x_0\\in [a, b]$ die Integralfunktion \n",
    "$$\n",
    "F:[a, b] \\rightarrow\\mathbb{R}\\text{ mit } F(x) = \\int_{x_0}^x f(t)\\, \\mathrm{d}t\n",
    "$$\n",
    "differenzierbar und eine Stammfunktion von $f$, d.h. es gilt $F'(x)=f(x)$ für alle $x\\in [a, b]$."
   ]
  },
  {
   "cell_type": "markdown",
   "metadata": {},
   "source": [
    "Sie wissen vielleicht, dass die Funktion $f(x)=\\exp(-x^2)$ *nicht* integrierbar ist. Was meint man damit?"
   ]
  },
  {
   "cell_type": "markdown",
   "metadata": {},
   "source": [
    "## Symbolische Integration in `sympy`\n",
    "`sympy` kann *nicht alle* Integrale, die geschlossen lösbar sind, auch lösen (siehe unten)! Die allermeisten, mit denen Sie es zu tun haben, aber schon - machmal mit kleiner Hilfe (siehe Übungen):\n",
    "$$\n",
    "\\int\\frac{4x^2-3x+2}{4x^2-4x+3}\\,\\mathrm{d}x\\qquad \\int (5\\sin(x)^4 + 2\\sin(x) + 5)\\cos(x)\\,\\mathrm{d}x\n",
    "$$"
   ]
  },
  {
   "cell_type": "code",
   "execution_count": null,
   "metadata": {},
   "outputs": [],
   "source": [
    "import sympy as sp\n",
    "\n",
    "sp.init_printing()\n",
    "\n",
    "x = sp.symbols('x')"
   ]
  },
  {
   "cell_type": "code",
   "execution_count": null,
   "metadata": {},
   "outputs": [],
   "source": [
    "sp.integrate((4*x**2-3*x+2) / (4*x**2-4*x+3))"
   ]
  },
  {
   "cell_type": "code",
   "execution_count": null,
   "metadata": {},
   "outputs": [],
   "source": [
    "sp.integrate((5 * sp.sin(x)**4 + 2 * sp.sin(x) + 5) * sp.cos(x), x)"
   ]
  },
  {
   "cell_type": "markdown",
   "metadata": {},
   "source": [
    "## Der Risch-Algorithmus"
   ]
  },
  {
   "cell_type": "markdown",
   "metadata": {},
   "source": [
    "Das Problem, zu entscheiden, ob eine gegebene Funktion durch *elementare Funktionen* integrierbar ist und das Integral mit einem Algorithmus anzugeben, wurde 1968 von Robert Risch *vollständig* gelöst. Sein Algorithmus wurde meines Wissens bisher nur in dem CAS [Axiom](http://www.axiom-developer.org/) vollständig implementiert."
   ]
  },
  {
   "cell_type": "markdown",
   "metadata": {},
   "source": [
    "Das Integral\n",
    "$$\n",
    "\\int \\frac x{\\sqrt{x^4 + 10  x^2 - 96x - 71}}\\,\\mathrm{d}x = - \\frac 18{\\log{\\left (- x^{8} - 20 x^{6} + 128 x^{5} - 54 x^{4} + 1408 x^{3} - 3124 x^{2} + \\sqrt{x^{4} + 10 x^{2} - 96 x - 71} \\left(x^{6} + 15 x^{4} - 80 x^{3} + 27 x^{2} - 528 x + 781\\right) - 10001 \\right )}}\n",
    "$$\n",
    "konnte ich bisher *nur* mit `Axiom` lösen!\n",
    "<img src=\"figs/maple_mathematica_axiom.png\" style=\"height: 200px;\">"
   ]
  },
  {
   "cell_type": "markdown",
   "metadata": {},
   "source": [
    "Wir wollen uns mit `sympy` von der Richtigkeit des Ergebnisses überzeugen:"
   ]
  },
  {
   "cell_type": "code",
   "execution_count": null,
   "metadata": {},
   "outputs": [],
   "source": [
    "import sympy as sp\n",
    "\n",
    "sp.init_printing()\n",
    "\n",
    "x = sp.symbols('x')"
   ]
  },
  {
   "cell_type": "code",
   "execution_count": null,
   "metadata": {},
   "outputs": [],
   "source": [
    "# sympy cannot do the following integral:\n",
    "f = x / (sp.sqrt(x**4 + 10 * x**2 - 96 * x - 71))\n",
    "sp.integrate(f, x)"
   ]
  },
  {
   "cell_type": "code",
   "execution_count": null,
   "metadata": {},
   "outputs": [],
   "source": [
    "# We know that f has a primitive integral:\n",
    "F = - (sp.S(1) / 8) * sp.log((x**6 + 15 * x**4 - 80 * x**3 + 27 * x**2 - 528 * x + 781) * sp.sqrt(x**4 + 10 * x**2 - 96 * x - 71) - (x**8 + 20 * x**6 - 128 * x**5 + 54 * x**4 - 1408 * x**3 + 3124 * x**2 + 10001))\n",
    "F * 8"
   ]
  },
  {
   "cell_type": "code",
   "execution_count": null,
   "metadata": {},
   "outputs": [],
   "source": [
    "# We form the derivative of F and show that it is equivalent to f:\n",
    "fp = F.diff()\n",
    "fp"
   ]
  },
  {
   "cell_type": "code",
   "execution_count": null,
   "metadata": {},
   "outputs": [],
   "source": [
    "# trying to simplify fp directly does not lead to anything\n",
    "# (Mathematica would be able to do it!)\n",
    "sp.simplify(fp)"
   ]
  },
  {
   "cell_type": "code",
   "execution_count": null,
   "metadata": {},
   "outputs": [],
   "source": [
    "# If you want to show that two expressions are mathematically\n",
    "# equivalent, it is often better to show that the difference\n",
    "# is equal to zero:\n",
    "diff = fp - f\n",
    "sp.simplify(diff)"
   ]
  },
  {
   "cell_type": "markdown",
   "metadata": {},
   "source": [
    "## Numerische Integrale"
   ]
  },
  {
   "cell_type": "markdown",
   "metadata": {},
   "source": [
    "`sympy` beschränkt sich hauptsdächlich auf *symbolische* Mathematik. Methoden für numerische Berechnungen finden sich in `scipy`. Dies gilt z. B. auch für Differentialgleichungen."
   ]
  },
  {
   "cell_type": "markdown",
   "metadata": {},
   "source": [
    "Wir wollen einen numerischen Schätzwert für das Integral\n",
    "$$\n",
    "  \\int_0^1 \\exp(-x^2)\\, \\mathrm{d}x\n",
    "$$\n",
    "bestimmen."
   ]
  },
  {
   "cell_type": "code",
   "execution_count": null,
   "metadata": {},
   "outputs": [],
   "source": [
    "import scipy.integrate as si\n",
    "import numpy as np\n",
    "\n",
    "def func(x):\n",
    "    return np.exp(-x**2)\n",
    "\n",
    "result, error = si.quad(func, 0.0, 1.0)\n",
    "print(result, error)"
   ]
  }
 ],
 "metadata": {
  "kernelspec": {
   "display_name": "Python 3",
   "language": "python",
   "name": "python3"
  },
  "language_info": {
   "codemirror_mode": {
    "name": "ipython",
    "version": 3
   },
   "file_extension": ".py",
   "mimetype": "text/x-python",
   "name": "python",
   "nbconvert_exporter": "python",
   "pygments_lexer": "ipython3",
   "version": "3.7.2"
  }
 },
 "nbformat": 4,
 "nbformat_minor": 2
}
